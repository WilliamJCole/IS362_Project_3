{
 "cells": [
  {
   "cell_type": "markdown",
   "metadata": {
    "deletable": true,
    "editable": true
   },
   "source": [
    "# Project 3: \n",
    "\n",
    "#### By Billy Cole\n",
    "\n",
    "Creating a set pandaframe from of the Chinook SQL db. Let's start by importing the necesary libraries."
   ]
  },
  {
   "cell_type": "code",
   "execution_count": 3,
   "metadata": {
    "collapsed": false,
    "deletable": true,
    "editable": true
   },
   "outputs": [],
   "source": [
    "import pandas as pd\n",
    "import numpy as np\n",
    "import sqlite3\n",
    "from sqlalchemy import create_engine"
   ]
  },
  {
   "cell_type": "markdown",
   "metadata": {
    "deletable": true,
    "editable": true
   },
   "source": [
    "#### Create a Data Frame:\n",
    "\n",
    "So the required information to display is their name, purchased track and album titles."
   ]
  },
  {
   "cell_type": "code",
   "execution_count": 14,
   "metadata": {
    "collapsed": false,
    "deletable": true,
    "editable": true
   },
   "outputs": [
    {
     "data": {
      "text/html": [
       "<div>\n",
       "<table border=\"1\" class=\"dataframe\">\n",
       "  <thead>\n",
       "    <tr style=\"text-align: right;\">\n",
       "      <th></th>\n",
       "      <th>LastName</th>\n",
       "      <th>FirstName</th>\n",
       "      <th>InvoiceId</th>\n",
       "      <th>InvoiceId</th>\n",
       "      <th>Name</th>\n",
       "      <th>Title</th>\n",
       "    </tr>\n",
       "  </thead>\n",
       "  <tbody>\n",
       "    <tr>\n",
       "      <th>0</th>\n",
       "      <td>Almeida</td>\n",
       "      <td>Roberto</td>\n",
       "      <td>34</td>\n",
       "      <td>34</td>\n",
       "      <td>Right Next Door to Hell</td>\n",
       "      <td>Use Your Illusion I</td>\n",
       "    </tr>\n",
       "    <tr>\n",
       "      <th>1</th>\n",
       "      <td>Almeida</td>\n",
       "      <td>Roberto</td>\n",
       "      <td>155</td>\n",
       "      <td>155</td>\n",
       "      <td>In The Evening</td>\n",
       "      <td>In Through The Out Door</td>\n",
       "    </tr>\n",
       "    <tr>\n",
       "      <th>2</th>\n",
       "      <td>Almeida</td>\n",
       "      <td>Roberto</td>\n",
       "      <td>155</td>\n",
       "      <td>155</td>\n",
       "      <td>Fool In The Rain</td>\n",
       "      <td>In Through The Out Door</td>\n",
       "    </tr>\n",
       "    <tr>\n",
       "      <th>3</th>\n",
       "      <td>Almeida</td>\n",
       "      <td>Roberto</td>\n",
       "      <td>166</td>\n",
       "      <td>166</td>\n",
       "      <td>Saudade Dos Aviões Da Panair (Conversando No Bar)</td>\n",
       "      <td>Minas</td>\n",
       "    </tr>\n",
       "    <tr>\n",
       "      <th>4</th>\n",
       "      <td>Almeida</td>\n",
       "      <td>Roberto</td>\n",
       "      <td>166</td>\n",
       "      <td>166</td>\n",
       "      <td>Caso Você Queira Saber</td>\n",
       "      <td>Minas</td>\n",
       "    </tr>\n",
       "  </tbody>\n",
       "</table>\n",
       "</div>"
      ],
      "text/plain": [
       "  LastName FirstName  InvoiceId  InvoiceId  \\\n",
       "0  Almeida   Roberto         34         34   \n",
       "1  Almeida   Roberto        155        155   \n",
       "2  Almeida   Roberto        155        155   \n",
       "3  Almeida   Roberto        166        166   \n",
       "4  Almeida   Roberto        166        166   \n",
       "\n",
       "                                                Name                    Title  \n",
       "0                            Right Next Door to Hell      Use Your Illusion I  \n",
       "1                                     In The Evening  In Through The Out Door  \n",
       "2                                   Fool In The Rain  In Through The Out Door  \n",
       "3  Saudade Dos Aviões Da Panair (Conversando No Bar)                    Minas  \n",
       "4                             Caso Você Queira Saber                    Minas  "
      ]
     },
     "execution_count": 14,
     "metadata": {},
     "output_type": "execute_result"
    }
   ],
   "source": [
    "sql = '''SELECT c.LastName, c.FirstName, i.InvoiceId, il.InvoiceId, t.Name, a.Title\n",
    "         FROM Customer as c\n",
    "         INNER JOIN Invoice as i\n",
    "         ON c.CustomerId = i.CustomerId\n",
    "         INNER JOIN InvoiceLine as il\n",
    "         ON i.InvoiceId = il.InvoiceId\n",
    "         INNER JOIN Track as t\n",
    "         ON il.TrackId = t.TrackId\n",
    "         INNER JOIN Album as a\n",
    "         ON t.AlbumId = a.AlbumId\n",
    "         ORDER BY c.LastName, c.FirstName'''\n",
    "\n",
    "db = sqlite3.connect('/Users/williamcole/IS362_Spring_2017/Project_3/ChinookDatabase1.4_CompleteVersion/Chinook_Sqlite.sqlite')\n",
    "pd.read_sql_query(sql, db).head(5)"
   ]
  }
 ],
 "metadata": {
  "kernelspec": {
   "display_name": "Python 3",
   "language": "python",
   "name": "python3"
  },
  "language_info": {
   "codemirror_mode": {
    "name": "ipython",
    "version": 3
   },
   "file_extension": ".py",
   "mimetype": "text/x-python",
   "name": "python",
   "nbconvert_exporter": "python",
   "pygments_lexer": "ipython3",
   "version": "3.5.1"
  }
 },
 "nbformat": 4,
 "nbformat_minor": 2
}
